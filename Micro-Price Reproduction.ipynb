{
 "cells": [
  {
   "cell_type": "code",
   "execution_count": 141,
   "metadata": {},
   "outputs": [],
   "source": [
    "import pandas as pd\n",
    "import numpy as np\n",
    "import os\n",
    "import matplotlib.pyplot as plt\n",
    "from IPython.core.interactiveshell import InteractiveShell\n",
    "InteractiveShell.ast_node_interactivity = \"all\"\n",
    "import warnings\n",
    "warnings.filterwarnings('ignore')\n",
    "from scipy.linalg import block_diag\n",
    "from scipy.linalg import eig\n",
    "\n",
    "\n",
    "os.chdir('/Users/shaileshkakkar/Desktop/CryptoData/LatestData/Data/ETHBTC/')\n",
    "filePath = os.getcwd() + '/PartialBookData.txt'\n",
    "#print filePath\n",
    "data = pd.read_csv(filePath)\n",
    "data['Spread'] = 100*(data['ask1'] - data['bid1'])/data['bid1']\n",
    "data['MidPrice'] = (data['ask1'] + data['bid1'])/2\n",
    "data['CompositePrice'] = (data['ask1'] * data['bidVol1'] + data['bid1']*data['askVol1'])/(data['askVol1'] + data['bidVol1'])\n",
    "data['MidPriceReturn'] = data['MidPrice'].pct_change()\n",
    "#Convert to time stamp specifying that the time is in ms\n",
    "data['LocalTime'] = data['LocalTime'].apply(lambda x : pd.to_datetime(x, unit= 'ms') )\n",
    "data.index = data['LocalTime']\n",
    "#Convert it into snapshot data with 1 second granularity\n",
    "data = data.resample('1000L',closed = 'left', label='right', how = 'last')\n",
    "#Fill all the NA values with the last observed values\n",
    "data = data.ffill()"
   ]
  },
  {
   "cell_type": "code",
   "execution_count": 142,
   "metadata": {
    "scrolled": true
   },
   "outputs": [
    {
     "data": {
      "text/plain": [
       "<matplotlib.axes._subplots.AxesSubplot at 0x109dc3d10>"
      ]
     },
     "execution_count": 142,
     "metadata": {},
     "output_type": "execute_result"
    },
    {
     "data": {
      "text/plain": [
       "Text(0.5,1,u'Histogram of the observed spread in the pair ETHBTC')"
      ]
     },
     "execution_count": 142,
     "metadata": {},
     "output_type": "execute_result"
    },
    {
     "data": {
      "image/png": "[encoded data removed]",
      "text/plain": [
       "<matplotlib.figure.Figure at 0x10e86d050>"
      ]
     },
     "metadata": {},
     "output_type": "display_data"
    }
   ],
   "source": [
    "data['Spread'] = 100*(data['ask1'] - data['bid1'])/data['bid1']\n",
    "data['Spread'].plot(kind = 'hist', bins = 21, xlim = [0.01, 0.3])\n",
    "plt.title('Histogram of the observed spread in the pair ETHBTC')\n",
    "plt.show()"
   ]
  },
  {
   "cell_type": "markdown",
   "metadata": {},
   "source": [
    "As seen above, the spread of the currency pair remains less than 10bps most of the times. It is interesting to note, since the exchange fee for the market making( buy + sell cost) is 10 bps on Binance if the market making agent chooses to pay the fee in BNB, is is more otherwise. This points to perhaps rebate being provided to some key market maker players that is not available to others.\n",
    "\n",
    "Also, the % of instances where there is any change in the bid or ask price is 48.41% and bid-ask crossover occurs at 3.39% of the times. \n",
    "\n",
    "Note that the data is sampled here with a 1 second frequency, and ETHBTC being a highly liquid pair, these numbers make sense."
   ]
  },
  {
   "cell_type": "code",
   "execution_count": 143,
   "metadata": {},
   "outputs": [
    {
     "name": "stdout",
     "output_type": "stream",
     "text": [
      "48.4110462791\n"
     ]
    }
   ],
   "source": [
    "# % of Instances where either the best bid or the best ask has moved\n",
    "print 100.*sum(data['MidPriceReturn'] != 0)/len(data)"
   ]
  },
  {
   "cell_type": "code",
   "execution_count": 144,
   "metadata": {},
   "outputs": [
    {
     "data": {
      "text/plain": [
       "3.3942799716972427"
      ]
     },
     "execution_count": 144,
     "metadata": {},
     "output_type": "execute_result"
    }
   ],
   "source": [
    "#Percentage of events where bid-ask crossover occured\n",
    "100.* sum( (data['ask1'] <= data['bid1'].shift(1)) | (data['bid1'] >= data['ask1'].shift(1)) ) / len(data)"
   ]
  },
  {
   "cell_type": "code",
   "execution_count": 145,
   "metadata": {
    "scrolled": true
   },
   "outputs": [],
   "source": [
    "def prep_data_sym(T,n_imb,dt,n_spread,hist):\n",
    "    data.rename(columns={'bid1': 'bid'}, inplace=True)\n",
    "    data.rename(columns={'ask1': 'ask'}, inplace=True)\n",
    "    data.rename(columns={'askVol1': 'as'}, inplace=True)\n",
    "    data.rename(columns={'bidVol1': 'bs'}, inplace=True)\n",
    "    data.rename(columns={'LocalTime': 'time'}, inplace=True)    \n",
    "    #Removed data(last param) from the original function\n",
    "    spread=T.ask-T.bid\n",
    "    ticksize=np.round(min(spread.loc[spread>0])*1e6)/1e6\n",
    "    T.spread=T.ask-T.bid\n",
    "    # adds the spread and mid prices\n",
    "    T['spread']=np.round((T['ask']-T['bid'])/ticksize)*ticksize\n",
    "    T['mid']=(T['bid']+T['ask'])/2\n",
    "\n",
    "    #filter out spreads >= n_spread\n",
    "    T = T.loc[(T.spread <= n_spread*ticksize) & (T.spread>0)]\n",
    "    T['imb']=T['bs']/(T['bs']+T['as'])\n",
    "    T['wmid']=T['imb']*T['ask']+(1-T['imb'])*T['bid']\n",
    "\n",
    "    #discretize imbalance into percentiles\n",
    "    T['imb_bucket'] = pd.qcut(T['imb'], n_imb, labels=False)\n",
    "    T['next_mid']=T['mid'].shift(-dt)\n",
    "    T['next_wmid']=T['wmid'].shift(-dt)\n",
    "\n",
    "    #step ahead state variables\n",
    "    T['next_spread']=T['spread'].shift(-dt)\n",
    "    T['next_time']=T['time'].shift(-dt)\n",
    "    T['next_imb_bucket']=T['imb_bucket'].shift(-dt)\n",
    "\n",
    "    # step ahead change in price\n",
    "    T['dM']=np.round((T['next_mid']-T['mid'])/ticksize*2)*ticksize/2\n",
    "    T['dW']=T['next_wmid']-T['wmid']\n",
    "    T = T.loc[(T.dM <= ticksize*1.1) & (T.dM>=-ticksize*1.1)]\n",
    "\n",
    "    #Getting the next step done\n",
    "    T2 = T.copy(deep=True)\n",
    "    T2['imb_bucket']=n_imb-1-T2['imb_bucket']\n",
    "    T2['next_imb_bucket']=n_imb-1-T2['next_imb_bucket']\n",
    "    T2['dM']=-T2['dM']\n",
    "    T2['dW']=-T2['dW']\n",
    "    T2['mid']=-T2['mid']\n",
    "    T2['wmid']=-T2['wmid']\n",
    "    T=pd.concat([T,T2])\n",
    "    T.index = pd.RangeIndex(len(T.index))\n",
    "    if hist<>'off':\n",
    "        histogram=pd.DataFrame.hist(T, column='spread')\n",
    "    return T,ticksize"
   ]
  },
  {
   "cell_type": "code",
   "execution_count": 146,
   "metadata": {},
   "outputs": [],
   "source": [
    "def estimate_old(T):\n",
    "    no_move=T[T['dM']==0]\n",
    "    no_move_counts=no_move.pivot_table(index=[ 'next_imb_bucket'], \n",
    "                     columns=['spread', 'imb_bucket'], \n",
    "                     values='time',\n",
    "                     fill_value=0, \n",
    "                     aggfunc='count').unstack()\n",
    "\n",
    "    #print no_move_counts\n",
    "    Q_counts=np.resize(np.array(no_move_counts[0:(n_imb*n_imb)]),(n_imb,n_imb))\n",
    "    # loop over all spreads and add block matrices\n",
    "    for i in range(1,n_spread):\n",
    "        Qi=np.resize(np.array(no_move_counts[(i*n_imb*n_imb):(i+1)*(n_imb*n_imb)]),(n_imb,n_imb))\n",
    "        Q_counts=block_diag(Q_counts,Qi)\n",
    "    #print Q_counts\n",
    "    move_counts=T[(T['dM']<>0)].pivot_table(index=['dM'], \n",
    "                         columns=['spread', 'imb_bucket'], \n",
    "                         values='time',\n",
    "                         fill_value=0, \n",
    "                         aggfunc='count').unstack()\n",
    "\n",
    "    R_counts=np.resize(np.array(move_counts),(n_imb*n_spread,4))\n",
    "    T1=np.concatenate((Q_counts,R_counts),axis=1).astype(float)\n",
    "    for i in range(0,n_imb*n_spread):\n",
    "        T1[i]=T1[i]/T1[i].sum()\n",
    "    Q=T1[:,0:(n_imb*n_spread)]\n",
    "    R1=T1[:,(n_imb*n_spread):]\n",
    "\n",
    "    K=np.array([-0.01, -0.005, 0.005, 0.01])\n",
    "    move_counts=T[(T['dM']<>0)].pivot_table(index=['spread','imb_bucket'], \n",
    "                     columns=['next_spread', 'next_imb_bucket'], \n",
    "                     values='time',\n",
    "                     fill_value=0, \n",
    "                     aggfunc='count') #.unstack()\n",
    "\n",
    "    R2_counts=np.resize(np.array(move_counts),(n_imb*n_spread,n_imb*n_spread))\n",
    "    T2=np.concatenate((Q_counts,R2_counts),axis=1).astype(float)\n",
    "\n",
    "    for i in range(0,n_imb*n_spread):\n",
    "        T2[i]=T2[i]/T2[i].sum()\n",
    "    R2=T2[:,(n_imb*n_spread):]\n",
    "    Q2=T2[:,0:(n_imb*n_spread)]\n",
    "    G1=np.dot(np.dot(np.linalg.inv(np.eye(n_imb*n_spread)-Q),R1),K)\n",
    "    B=np.dot(np.linalg.inv(np.eye(n_imb*n_spread)-Q),R2)\n",
    "    \n",
    "    return G1,B,Q,Q2,R1,R2,K"
   ]
  },
  {
   "cell_type": "code",
   "execution_count": 147,
   "metadata": {},
   "outputs": [],
   "source": [
    "def compute_next_price_moves(T):\n",
    "    T['npm']=np.nan\n",
    "    T['npm'].loc[(T['dM'] <>0)]=np.round(T['dM'].loc[(T['dM'] <>0)] /ticksize*2)*ticksize/2\n",
    "    T['npm']=T['npm'].bfill()\n",
    "    T = T.loc[(T.npm <= ticksize*1.1)& (T.npm>=-ticksize*1.1) ]\n",
    "    T['nnpm']=np.nan\n",
    "    T['nnpm'].loc[(T['dM'] <>0)]=T['dM'].loc[(T['dM'] <>0)]+T['npm'].shift(-1).loc[(T['dM'] <>0)]\n",
    "    T['nnpm']=T['nnpm'].bfill()\n",
    "    T = T.loc[(T.nnpm <= ticksize*2.1)& (T.nnpm>=-ticksize*2.1) ]\n",
    "    T['nnnpm']=np.nan\n",
    "    T['nnnpm'].loc[(T['dM'] <>0)]=T['dM'].loc[(T['dM'] <>0)]+T['nnpm'].shift(-1).loc[(T['dM'] <>0)]\n",
    "    T['nnnpm']=T['nnnpm'].bfill()\n",
    "    T = T.loc[(T.nnnpm <= ticksize*3.1)& (T.nnnpm>=-ticksize*3.1) ]\n",
    "    T['nnnnpm']=np.nan\n",
    "    T['nnnnpm'].loc[(T['dM'] <>0)]=T['dM'].loc[(T['dM'] <>0)]+T['nnnpm'].shift(-1).loc[(T['dM'] <>0)]\n",
    "    T['nnnnpm']=T['nnnnpm'].bfill()\n",
    "    T = T.loc[(T.nnnnpm <= ticksize*4.1)& (T.nnnnpm>=-ticksize*4.1) ]\n",
    "    T['nnnnnpm']=np.nan\n",
    "    T['nnnnnpm'].loc[(T['dM'] <>0)]=T['dM'].loc[(T['dM'] <>0)]+T['nnnnpm'].shift(-1).loc[(T['dM'] <>0)]\n",
    "    T['nnnnnpm']=T['nnnnnpm'].bfill()\n",
    "    T = T.loc[(T.nnnnpm <= ticksize*5.1)& (T.nnnnpm>=-ticksize*5.1) ]\n",
    "    T['nnnnnnpm']=np.nan\n",
    "    T['nnnnnnpm'].loc[(T['dM'] <>0)]=T['dM'].loc[(T['dM'] <>0)]+T['nnnnnpm'].shift(-1).loc[(T['dM'] <>0)]\n",
    "    T['nnnnnnpm']=T['nnnnnnpm'].bfill()\n",
    "    T = T.loc[(T.nnnnpm <= ticksize*6.1)& (T.nnnnpm>=-ticksize*6.1) ]\n",
    "    return T"
   ]
  },
  {
   "cell_type": "code",
   "execution_count": 148,
   "metadata": {},
   "outputs": [],
   "source": [
    "def plot_Gstar(ticker,G1,B,T):\n",
    "    G2=np.dot(B,G1)+G1\n",
    "    G3=G2+np.dot(np.dot(B,B),G1)\n",
    "    G4=G3+np.dot(np.dot(np.dot(B,B),B),G1)\n",
    "    G5=G4+np.dot(np.dot(np.dot(np.dot(B,B),B),B),G1)\n",
    "    G6=G5+np.dot(np.dot(np.dot(np.dot(np.dot(B,B),B),B),B),G1)\n",
    "    for i in range(0,n_spread):\n",
    "        plt.plot(imb,G6[(0+i*n_imb):(n_imb+i*n_imb)],label=\"spread = \"+str(i+1))\n",
    "        \n",
    "    #plt.plot(imb,res6step[(0+i*n_imb):(n_imb+i*n_imb)],label='$E[M_{T6}-M_t]$ ')\n",
    "    plt.ylim(-0.005,0.005)\n",
    "    plt.legend(loc='upper left')\n",
    "    plt.title(ticker+' microprice adjustment')\n",
    "    plt.xlabel('Imbalance')\n",
    "    return G6"
   ]
  },
  {
   "cell_type": "code",
   "execution_count": 149,
   "metadata": {},
   "outputs": [],
   "source": [
    "n_imb=7\n",
    "n_spread=2\n",
    "dt=1\n",
    "data = pd.read_csv(filePath)\n",
    "ticker='ETHBTC'\n",
    "T,ticksize=prep_data_sym(data,n_imb,dt,n_spread,'off')\n",
    "imb=np.linspace(0,1,n_imb)\n",
    "G1,B,Q,Q2,R1,R2,K=estimate_old(T)\n",
    "T=compute_next_price_moves(T)"
   ]
  },
  {
   "cell_type": "code",
   "execution_count": 150,
   "metadata": {
    "scrolled": true
   },
   "outputs": [
    {
     "data": {
      "image/png": "[encoded data removed]",
      "text/plain": [
       "<matplotlib.figure.Figure at 0x10fc73150>"
      ]
     },
     "metadata": {},
     "output_type": "display_data"
    }
   ],
   "source": [
    "G6=plot_Gstar(ticker,G1,B,T)"
   ]
  },
  {
   "cell_type": "code",
   "execution_count": 151,
   "metadata": {},
   "outputs": [
    {
     "data": {
      "text/plain": [
       "<matplotlib.figure.Figure at 0x10eac2bd0>"
      ]
     },
     "execution_count": 151,
     "metadata": {},
     "output_type": "execute_result"
    },
    {
     "data": {
      "text/plain": [
       "<Container object of 3 artists>"
      ]
     },
     "execution_count": 151,
     "metadata": {},
     "output_type": "execute_result"
    },
    {
     "data": {
      "text/plain": [
       "<Container object of 3 artists>"
      ]
     },
     "execution_count": 151,
     "metadata": {},
     "output_type": "execute_result"
    },
    {
     "data": {
      "text/plain": [
       "<matplotlib.legend.Legend at 0x10fb80a10>"
      ]
     },
     "execution_count": 151,
     "metadata": {},
     "output_type": "execute_result"
    },
    {
     "data": {
      "text/plain": [
       "Text(0.5,1,u'ETHBTC microprice vs. empirical,spread=2')"
      ]
     },
     "execution_count": 151,
     "metadata": {},
     "output_type": "execute_result"
    },
    {
     "data": {
      "text/plain": [
       "Text(0.5,0,u'Imbalance')"
      ]
     },
     "execution_count": 151,
     "metadata": {},
     "output_type": "execute_result"
    },
    {
     "data": {
      "text/plain": [
       "Text(0.5,1,u'ETHBTC microprice vs. empirical,spread=2')"
      ]
     },
     "execution_count": 151,
     "metadata": {},
     "output_type": "execute_result"
    },
    {
     "data": {
      "image/png": "[encoded data removed]",
      "text/plain": [
       "<matplotlib.figure.Figure at 0x10eac2bd0>"
      ]
     },
     "metadata": {},
     "output_type": "display_data"
    }
   ],
   "source": [
    "dt = 30\n",
    "test['dM']=test['mid'].shift(dt)-test['mid']\n",
    "test['dW']=test['wmid'].shift(dt)-test['mid']\n",
    "grouped=test.groupby(['spread','imb_bucket'])\n",
    "test['dt']=(test['EventTime'].shift(-dt)-test['EventTime'])\n",
    "\n",
    "grouped=test.groupby(['spread','imb_bucket'])\n",
    "res1min=grouped['dM'].aggregate(np.mean)\n",
    "std1=grouped['dM'].aggregate(np.std)\n",
    "cnt1=grouped.count()['dM']\n",
    "\n",
    "grouped2=test.groupby(['spread','imb_bucket'])\n",
    "res1min2=grouped2['dW'].aggregate(np.mean)\n",
    "std12=grouped2['dW'].aggregate(np.std)\n",
    "cnt12=grouped2.count()['dW']\n",
    "\n",
    "i =1\n",
    "plt.figure()\n",
    "#plt.scatter(imb,g_star[(0+i*n_imb):(n_imb+i*n_imb)],label=\"G_star\",color='r',s=50)\n",
    "plt.errorbar(imb,res1min[(0+i*n_imb):(n_imb+i*n_imb)],yerr=np.sqrt(dt)*std1[(0+i*n_imb):(n_imb+i*n_imb)]/np.sqrt(cnt1[(0+i*n_imb):(n_imb+i*n_imb)]), capthick=5,label='empirical E[M_{t+'+str(dt)+'s}-M_t]')\n",
    "\n",
    "plt.errorbar(imb,res1min2[(0+i*n_imb):(n_imb+i*n_imb)],yerr=np.sqrt(dt)*std12[(0+i*n_imb):(n_imb+i*n_imb)]/np.sqrt(cnt12[(0+i*n_imb):(n_imb+i*n_imb)]), capthick=5,label='empirical E[M_{t+'+str(dt)+'s}-M_t]')\n",
    "plt.legend(loc='upper left')\n",
    "plt.title(ticker+' microprice vs. empirical,spread='+str(i+1))\n",
    "plt.xlabel('Imbalance')\n",
    "plt.title(ticker+' microprice vs. empirical,spread='+str(i+1))\n",
    "\n",
    "\n"
   ]
  }
 ],
 "metadata": {
  "kernelspec": {
   "display_name": "Python 2",
   "language": "python",
   "name": "python2"
  },
  "language_info": {
   "codemirror_mode": {
    "name": "ipython",
    "version": 2
   },
   "file_extension": ".py",
   "mimetype": "text/x-python",
   "name": "python",
   "nbconvert_exporter": "python",
   "pygments_lexer": "ipython2",
   "version": "2.7.14"
  }
 },
 "nbformat": 4,
 "nbformat_minor": 2
}

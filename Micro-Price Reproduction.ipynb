{
 "cells": [
  {
   "cell_type": "code",
   "execution_count": 95,
   "metadata": {},
   "outputs": [
    {
     "name": "stdout",
     "output_type": "stream",
     "text": [
      "<class 'pandas.core.frame.DataFrame'>\n",
      "RangeIndex: 54846 entries, 0 to 54845\n",
      "Data columns (total 47 columns):\n",
      "Unnamed: 0        54846 non-null int64\n",
      "Time              54846 non-null float64\n",
      "LastUpdateId      54846 non-null int64\n",
      "bid1              54846 non-null float64\n",
      "bidVol1           54846 non-null float64\n",
      "ask1              54846 non-null float64\n",
      "askVol1           54846 non-null float64\n",
      "bid2              54846 non-null float64\n",
      "bidVol2           54846 non-null float64\n",
      "ask2              54846 non-null float64\n",
      "askVol2           54846 non-null float64\n",
      "bid3              54846 non-null float64\n",
      "bidVol3           54846 non-null float64\n",
      "ask3              54846 non-null float64\n",
      "askVol3           54846 non-null float64\n",
      "bid4              54846 non-null float64\n",
      "bidVol4           54846 non-null float64\n",
      "ask4              54846 non-null float64\n",
      "askVol4           54846 non-null float64\n",
      "bid5              54846 non-null float64\n",
      "bidVol5           54846 non-null float64\n",
      "ask5              54846 non-null float64\n",
      "askVol5           54846 non-null float64\n",
      "bid6              54846 non-null float64\n",
      "bidVol6           54846 non-null float64\n",
      "ask6              54846 non-null float64\n",
      "askVol6           54846 non-null float64\n",
      "bid7              54846 non-null float64\n",
      "bidVol7           54846 non-null float64\n",
      "ask7              54846 non-null float64\n",
      "askVol7           54846 non-null float64\n",
      "bid8              54846 non-null float64\n",
      "bidVol8           54846 non-null float64\n",
      "ask8              54846 non-null float64\n",
      "askVol8           54846 non-null float64\n",
      "bid9              54846 non-null float64\n",
      "bidVol9           54846 non-null float64\n",
      "ask9              54846 non-null float64\n",
      "askVol9           54846 non-null float64\n",
      "bid10             54846 non-null float64\n",
      "bidVol10          54846 non-null float64\n",
      "ask10             54846 non-null float64\n",
      "askVol10          54846 non-null float64\n",
      "Spread            54846 non-null float64\n",
      "MidPrice          54846 non-null float64\n",
      "CompositePrice    54846 non-null float64\n",
      "MidPriceReturn    54845 non-null float64\n",
      "dtypes: float64(45), int64(2)\n",
      "memory usage: 19.7 MB\n"
     ]
    }
   ],
   "source": [
    "import pandas as pd\n",
    "import os\n",
    "import matplotlib.pyplot as plt\n",
    "from IPython.core.interactiveshell import InteractiveShell\n",
    "InteractiveShell.ast_node_interactivity = \"all\"\n",
    "import warnings\n",
    "warnings.filterwarnings('ignore')\n",
    "from scipy.linalg import block_diag\n",
    "from scipy.linalg import eig\n",
    "\n",
    "\n",
    "os.chdir('/Users/shaileshkakkar/Desktop/CryptoData')\n",
    "filePath = os.getcwd() + '/Data/TRXBTC/Data.txt'\n",
    "#print filePath\n",
    "data = pd.read_csv(filePath)\n",
    "data['Spread'] = 100*(data['ask1'] - data['bid1'])/data['bid1']\n",
    "data['MidPrice'] = (data['ask1'] + data['bid1'])/2\n",
    "data['CompositePrice'] = (data['ask1'] * data['bidVol1'] + data['bid1']*data['askVol1'])/(data['askVol1'] + data['bidVol1'])\n",
    "data['MidPriceReturn'] = data['MidPrice'].pct_change()\n",
    "#data.info()"
   ]
  },
  {
   "cell_type": "code",
   "execution_count": 73,
   "metadata": {},
   "outputs": [
    {
     "data": {
      "text/html": [
       "<div>\n",
       "<style scoped>\n",
       "    .dataframe tbody tr th:only-of-type {\n",
       "        vertical-align: middle;\n",
       "    }\n",
       "\n",
       "    .dataframe tbody tr th {\n",
       "        vertical-align: top;\n",
       "    }\n",
       "\n",
       "    .dataframe thead th {\n",
       "        text-align: right;\n",
       "    }\n",
       "</style>\n",
       "<table border=\"1\" class=\"dataframe\">\n",
       "  <thead>\n",
       "    <tr style=\"text-align: right;\">\n",
       "      <th></th>\n",
       "      <th>Spread</th>\n",
       "      <th>MidPriceReturn</th>\n",
       "    </tr>\n",
       "  </thead>\n",
       "  <tbody>\n",
       "    <tr>\n",
       "      <th>count</th>\n",
       "      <td>54846.000000</td>\n",
       "      <td>5.484500e+04</td>\n",
       "    </tr>\n",
       "    <tr>\n",
       "      <th>mean</th>\n",
       "      <td>0.184106</td>\n",
       "      <td>1.738526e-07</td>\n",
       "    </tr>\n",
       "    <tr>\n",
       "      <th>std</th>\n",
       "      <td>0.059624</td>\n",
       "      <td>5.082137e-04</td>\n",
       "    </tr>\n",
       "    <tr>\n",
       "      <th>min</th>\n",
       "      <td>0.157233</td>\n",
       "      <td>-6.650042e-03</td>\n",
       "    </tr>\n",
       "    <tr>\n",
       "      <th>25%</th>\n",
       "      <td>0.160772</td>\n",
       "      <td>0.000000e+00</td>\n",
       "    </tr>\n",
       "    <tr>\n",
       "      <th>50%</th>\n",
       "      <td>0.162602</td>\n",
       "      <td>0.000000e+00</td>\n",
       "    </tr>\n",
       "    <tr>\n",
       "      <th>75%</th>\n",
       "      <td>0.165289</td>\n",
       "      <td>0.000000e+00</td>\n",
       "    </tr>\n",
       "    <tr>\n",
       "      <th>max</th>\n",
       "      <td>1.048951</td>\n",
       "      <td>5.785124e-03</td>\n",
       "    </tr>\n",
       "  </tbody>\n",
       "</table>\n",
       "</div>"
      ],
      "text/plain": [
       "             Spread  MidPriceReturn\n",
       "count  54846.000000    5.484500e+04\n",
       "mean       0.184106    1.738526e-07\n",
       "std        0.059624    5.082137e-04\n",
       "min        0.157233   -6.650042e-03\n",
       "25%        0.160772    0.000000e+00\n",
       "50%        0.162602    0.000000e+00\n",
       "75%        0.165289    0.000000e+00\n",
       "max        1.048951    5.785124e-03"
      ]
     },
     "execution_count": 73,
     "metadata": {},
     "output_type": "execute_result"
    }
   ],
   "source": [
    "data[['Spread', 'MidPriceReturn']].describe()"
   ]
  },
  {
   "cell_type": "code",
   "execution_count": 64,
   "metadata": {},
   "outputs": [
    {
     "data": {
      "text/plain": [
       "<matplotlib.axes._subplots.AxesSubplot at 0x10de88250>"
      ]
     },
     "execution_count": 64,
     "metadata": {},
     "output_type": "execute_result"
    },
    {
     "data": {
      "image/png": "[encoded data removed]",
      "text/plain": [
       "<matplotlib.figure.Figure at 0x10de8ded0>"
      ]
     },
     "metadata": {},
     "output_type": "display_data"
    }
   ],
   "source": [
    "data['Spread'].plot(kind = 'hist', bins = 21, xlim = [0.05, 0.95])"
   ]
  },
  {
   "cell_type": "code",
   "execution_count": 65,
   "metadata": {},
   "outputs": [
    {
     "name": "stdout",
     "output_type": "stream",
     "text": [
      "13.6600663676\n"
     ]
    }
   ],
   "source": [
    "# % of Instances where either the best bid or the best ask has moved\n",
    "print 100.*sum(data['MidPriceReturn'] != 0)/len(data)"
   ]
  },
  {
   "cell_type": "code",
   "execution_count": 66,
   "metadata": {},
   "outputs": [
    {
     "data": {
      "text/plain": [
       "5.354993983152828"
      ]
     },
     "execution_count": 66,
     "metadata": {},
     "output_type": "execute_result"
    }
   ],
   "source": [
    "#Percentage of events where bid-ask crossover occured\n",
    "100.* sum( (data['ask1'] <= data['bid1'].shift(1)) | (data['bid1'] >= data['ask1'].shift(1)) ) / len(data)"
   ]
  },
  {
   "cell_type": "code",
   "execution_count": 93,
   "metadata": {
    "collapsed": true,
    "scrolled": true
   },
   "outputs": [],
   "source": [
    "def prep_data_sym(T,n_imb,dt,n_spread,hist):\n",
    "    data.rename(columns={'bid1': 'bid'}, inplace=True)\n",
    "    data.rename(columns={'ask1': 'ask'}, inplace=True)\n",
    "    data.rename(columns={'askVol1': 'as'}, inplace=True)\n",
    "    data.rename(columns={'bidVol1': 'bs'}, inplace=True)\n",
    "    data.rename(columns={'Time': 'time'}, inplace=True)    \n",
    "    #Removed data(last param) from the original function\n",
    "    spread=T.ask-T.bid\n",
    "    ticksize=np.round(min(spread.loc[spread>0])*1e8)/1e8\n",
    "    T.spread=T.ask-T.bid\n",
    "    # adds the spread and mid prices\n",
    "    T['spread']=np.round((T['ask']-T['bid'])/ticksize)*ticksize\n",
    "    T['mid']=(T['bid']+T['ask'])/2\n",
    "\n",
    "    #filter out spreads >= n_spread\n",
    "    T = T.loc[(T.spread <= n_spread*ticksize) & (T.spread>0)]\n",
    "    T['imb']=T['bs']/(T['bs']+T['as'])\n",
    "    T['wmid']=T['imb']*T['ask']+(1-T['imb'])*T['bid']\n",
    "\n",
    "    #discretize imbalance into percentiles\n",
    "    T['imb_bucket'] = pd.qcut(T['imb'], n_imb, labels=False)\n",
    "    T['next_mid']=T['mid'].shift(-dt)\n",
    "    T['next_wmid']=T['wmid'].shift(-dt)\n",
    "\n",
    "    #step ahead state variables\n",
    "    T['next_spread']=T['spread'].shift(-dt)\n",
    "    T['next_time']=T['time'].shift(-dt)\n",
    "    T['next_imb_bucket']=T['imb_bucket'].shift(-dt)\n",
    "\n",
    "    # step ahead change in price\n",
    "    T['dM']=np.round((T['next_mid']-T['mid'])/ticksize*2)*ticksize/2\n",
    "    T['dW']=T['next_wmid']-T['wmid']\n",
    "    T = T.loc[(T.dM <= ticksize*1.1) & (T.dM>=-ticksize*1.1)]\n",
    "\n",
    "    #Getting the next step done\n",
    "    T2 = T.copy(deep=True)\n",
    "    T2['imb_bucket']=n_imb-1-T2['imb_bucket']\n",
    "    T2['next_imb_bucket']=n_imb-1-T2['next_imb_bucket']\n",
    "    T2['dM']=-T2['dM']\n",
    "    T2['dW']=-T2['dW']\n",
    "    T2['mid']=-T2['mid']\n",
    "    T2['wmid']=-T2['wmid']\n",
    "    T=pd.concat([T,T2])\n",
    "    T.index = pd.RangeIndex(len(T.index))\n",
    "    if hist<>'off':\n",
    "        histogram=pd.DataFrame.hist(T, column='spread')\n",
    "    return T,ticksize"
   ]
  },
  {
   "cell_type": "code",
   "execution_count": 85,
   "metadata": {
    "collapsed": true
   },
   "outputs": [],
   "source": [
    "def estimate_old(T):\n",
    "    no_move=T[T['dM']==0]\n",
    "    no_move_counts=no_move.pivot_table(index=[ 'next_imb_bucket'], \n",
    "                     columns=['spread', 'imb_bucket'], \n",
    "                     values='time',\n",
    "                     fill_value=0, \n",
    "                     aggfunc='count').unstack()\n",
    "\n",
    "    #print no_move_counts\n",
    "    Q_counts=np.resize(np.array(no_move_counts[0:(n_imb*n_imb)]),(n_imb,n_imb))\n",
    "    # loop over all spreads and add block matrices\n",
    "    for i in range(1,n_spread):\n",
    "        Qi=np.resize(np.array(no_move_counts[(i*n_imb*n_imb):(i+1)*(n_imb*n_imb)]),(n_imb,n_imb))\n",
    "        Q_counts=block_diag(Q_counts,Qi)\n",
    "    #print Q_counts\n",
    "    move_counts=T[(T['dM']<>0)].pivot_table(index=['dM'], \n",
    "                         columns=['spread', 'imb_bucket'], \n",
    "                         values='time',\n",
    "                         fill_value=0, \n",
    "                         aggfunc='count').unstack()\n",
    "\n",
    "    R_counts=np.resize(np.array(move_counts),(n_imb*n_spread,4))\n",
    "    T1=np.concatenate((Q_counts,R_counts),axis=1).astype(float)\n",
    "    for i in range(0,n_imb*n_spread):\n",
    "        T1[i]=T1[i]/T1[i].sum()\n",
    "    Q=T1[:,0:(n_imb*n_spread)]\n",
    "    R1=T1[:,(n_imb*n_spread):]\n",
    "\n",
    "    K=np.array([-0.01, -0.005, 0.005, 0.01])\n",
    "    move_counts=T[(T['dM']<>0)].pivot_table(index=['spread','imb_bucket'], \n",
    "                     columns=['next_spread', 'next_imb_bucket'], \n",
    "                     values='time',\n",
    "                     fill_value=0, \n",
    "                     aggfunc='count') #.unstack()\n",
    "\n",
    "    R2_counts=np.resize(np.array(move_counts),(n_imb*n_spread,n_imb*n_spread))\n",
    "    T2=np.concatenate((Q_counts,R2_counts),axis=1).astype(float)\n",
    "\n",
    "    for i in range(0,n_imb*n_spread):\n",
    "        T2[i]=T2[i]/T2[i].sum()\n",
    "    R2=T2[:,(n_imb*n_spread):]\n",
    "    Q2=T2[:,0:(n_imb*n_spread)]\n",
    "    G1=np.dot(np.dot(np.linalg.inv(np.eye(n_imb*n_spread)-Q),R1),K)\n",
    "    B=np.dot(np.linalg.inv(np.eye(n_imb*n_spread)-Q),R2)\n",
    "    \n",
    "    return G1,B,Q,Q2,R1,R2,K"
   ]
  },
  {
   "cell_type": "code",
   "execution_count": 86,
   "metadata": {
    "collapsed": true
   },
   "outputs": [],
   "source": [
    "def compute_next_price_moves(T):\n",
    "    T['npm']=np.nan\n",
    "    T['npm'].loc[(T['dM'] <>0)]=np.round(T['dM'].loc[(T['dM'] <>0)] /ticksize*2)*ticksize/2\n",
    "    T['npm']=T['npm'].bfill()\n",
    "    T = T.loc[(T.npm <= ticksize*1.1)& (T.npm>=-ticksize*1.1) ]\n",
    "    T['nnpm']=np.nan\n",
    "    T['nnpm'].loc[(T['dM'] <>0)]=T['dM'].loc[(T['dM'] <>0)]+T['npm'].shift(-1).loc[(T['dM'] <>0)]\n",
    "    T['nnpm']=T['nnpm'].bfill()\n",
    "    T = T.loc[(T.nnpm <= ticksize*2.1)& (T.nnpm>=-ticksize*2.1) ]\n",
    "    T['nnnpm']=np.nan\n",
    "    T['nnnpm'].loc[(T['dM'] <>0)]=T['dM'].loc[(T['dM'] <>0)]+T['nnpm'].shift(-1).loc[(T['dM'] <>0)]\n",
    "    T['nnnpm']=T['nnnpm'].bfill()\n",
    "    T = T.loc[(T.nnnpm <= ticksize*3.1)& (T.nnnpm>=-ticksize*3.1) ]\n",
    "    T['nnnnpm']=np.nan\n",
    "    T['nnnnpm'].loc[(T['dM'] <>0)]=T['dM'].loc[(T['dM'] <>0)]+T['nnnpm'].shift(-1).loc[(T['dM'] <>0)]\n",
    "    T['nnnnpm']=T['nnnnpm'].bfill()\n",
    "    T = T.loc[(T.nnnnpm <= ticksize*4.1)& (T.nnnnpm>=-ticksize*4.1) ]\n",
    "    T['nnnnnpm']=np.nan\n",
    "    T['nnnnnpm'].loc[(T['dM'] <>0)]=T['dM'].loc[(T['dM'] <>0)]+T['nnnnpm'].shift(-1).loc[(T['dM'] <>0)]\n",
    "    T['nnnnnpm']=T['nnnnnpm'].bfill()\n",
    "    T = T.loc[(T.nnnnpm <= ticksize*5.1)& (T.nnnnpm>=-ticksize*5.1) ]\n",
    "    T['nnnnnnpm']=np.nan\n",
    "    T['nnnnnnpm'].loc[(T['dM'] <>0)]=T['dM'].loc[(T['dM'] <>0)]+T['nnnnnpm'].shift(-1).loc[(T['dM'] <>0)]\n",
    "    T['nnnnnnpm']=T['nnnnnnpm'].bfill()\n",
    "    T = T.loc[(T.nnnnpm <= ticksize*6.1)& (T.nnnnpm>=-ticksize*6.1) ]\n",
    "    return T"
   ]
  },
  {
   "cell_type": "code",
   "execution_count": null,
   "metadata": {
    "collapsed": true
   },
   "outputs": [],
   "source": [
    "def plot_Gstar(ticker,G1,B,T):\n",
    "    G2=np.dot(B,G1)+G1\n",
    "    G3=G2+np.dot(np.dot(B,B),G1)\n",
    "    G4=G3+np.dot(np.dot(np.dot(B,B),B),G1)\n",
    "    G5=G4+np.dot(np.dot(np.dot(np.dot(B,B),B),B),G1)\n",
    "    G6=G5+np.dot(np.dot(np.dot(np.dot(np.dot(B,B),B),B),B),G1)\n",
    "    for i in range(0,n_spread):\n",
    "        plt.plot(imb,G6[(0+i*n_imb):(n_imb+i*n_imb)],label=\"spread = \"+str(i+1))\n",
    "        \n",
    "    #plt.plot(imb,res6step[(0+i*n_imb):(n_imb+i*n_imb)],label='$E[M_{T6}-M_t]$ ')\n",
    "    plt.ylim(-0.005,0.005)\n",
    "    plt.legend(loc='upper left')\n",
    "    plt.title(ticker+' microprice adjustment')\n",
    "    plt.xlabel('Imbalance')\n",
    "    return G6"
   ]
  },
  {
   "cell_type": "code",
   "execution_count": 96,
   "metadata": {
    "collapsed": true
   },
   "outputs": [],
   "source": [
    "n_imb=7\n",
    "n_spread=2\n",
    "dt=1\n",
    "data = pd.read_csv(filePath)\n",
    "ticker='TRXBTC'\n",
    "T,ticksize=prep_data_sym(data,n_imb,dt,n_spread,'off')\n",
    "imb=np.linspace(0,1,n_imb)\n",
    "G1,B,Q,Q2,R1,R2,K=estimate_old(T)\n",
    "T=compute_next_price_moves(T)"
   ]
  },
  {
   "cell_type": "code",
   "execution_count": 104,
   "metadata": {},
   "outputs": [
    {
     "data": {
      "image/png": "[encoded data removed]",
      "text/plain": [
       "<matplotlib.figure.Figure at 0x10dac5c90>"
      ]
     },
     "metadata": {},
     "output_type": "display_data"
    }
   ],
   "source": [
    "G6=plot_Gstar(ticker,G1,B,T)"
   ]
  },
  {
   "cell_type": "code",
   "execution_count": null,
   "metadata": {
    "collapsed": true
   },
   "outputs": [],
   "source": []
  }
 ],
 "metadata": {
  "kernelspec": {
   "display_name": "Python 3",
   "language": "python",
   "name": "python3"
  },
  "language_info": {
   "codemirror_mode": {
    "name": "ipython",
    "version": 3
   },
   "file_extension": ".py",
   "mimetype": "text/x-python",
   "name": "python",
   "nbconvert_exporter": "python",
   "pygments_lexer": "ipython3",
   "version": "3.6.3"
  }
 },
 "nbformat": 4,
 "nbformat_minor": 2
}
